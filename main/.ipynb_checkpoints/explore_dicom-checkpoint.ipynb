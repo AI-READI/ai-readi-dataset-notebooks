{
 "cells": [
  {
   "cell_type": "markdown",
   "metadata": {},
   "source": [
    "# DICOM "
   ]
  },
  {
   "cell_type": "code",
   "execution_count": 1,
   "metadata": {
    "scrolled": true,
    "tags": []
   },
   "outputs": [],
   "source": [
    "import os\n",
    "\n",
    "import matplotlib.pyplot as plt\n",
    "import numpy as np\n",
    "import pydicom\n",
    "from PIL import Image\n",
    "from pydicom.pixel_data_handlers.util import convert_color_space"
   ]
  },
  {
   "cell_type": "markdown",
   "metadata": {},
   "source": [
    "## Viewing Retinal Photography Images: CFP, IR, FAF "
   ]
  },
  {
   "cell_type": "code",
   "execution_count": null,
   "metadata": {},
   "outputs": [],
   "source": [
    "modality = \"cfp\"\n",
    "device = \"optomed_aurora\"\n",
    "participant_id = \"1001\"\n",
    "\n",
    "# Change modality, device, and participant_id to explore other files\n",
    "path = f\"/Data/dataset/retinal_photography/{modality}/{device}/{participant_id}\""
   ]
  },
  {
   "cell_type": "code",
   "execution_count": null,
   "metadata": {},
   "outputs": [],
   "source": [
    "file_list = os.listdir(path)"
   ]
  },
  {
   "cell_type": "code",
   "execution_count": null,
   "metadata": {},
   "outputs": [],
   "source": [
    "# Read DICOM tags and values using pydicom  - change \"0\" to other numbers to explore other images\n",
    "dcm = pydicom.dcmread(f\"{path}/{file_list[0]}\")"
   ]
  },
  {
   "cell_type": "code",
   "execution_count": null,
   "metadata": {},
   "outputs": [],
   "source": [
    "# Print all tags and values\n",
    "# print(dcm)\n",
    "\n",
    "# Print tags and values of your interest\n",
    "print(dcm.Manufacturer)\n",
    "print(dcm.ManufacturerModelName)\n",
    "print(dcm.ImageLaterality)\n",
    "print(dcm.Rows)\n",
    "print(dcm.Columns)\n",
    "\n",
    "# example of how to get nested tags and values (2 examples, same outcome)\n",
    "print(dcm.AnatomicRegionSequence[0].CodeMeaning)\n",
    "print(dcm[\"00082218\"][0][\"00080104\"].value)"
   ]
  },
  {
   "cell_type": "code",
   "execution_count": null,
   "metadata": {},
   "outputs": [],
   "source": [
    "# View the image\n",
    "arr = dcm.pixel_array\n",
    "\n",
    "# Comment out this line for Spectralis IR images\n",
    "arr = convert_color_space(arr, \"YBR_FULL\", \"RGB\")\n",
    "\n",
    "# Convert numpy array to an Image\n",
    "img = Image.fromarray(arr)\n",
    "display(img)"
   ]
  },
  {
   "cell_type": "markdown",
   "metadata": {},
   "source": [
    "## Viewing Retinal OCT images"
   ]
  },
  {
   "cell_type": "code",
   "execution_count": null,
   "metadata": {},
   "outputs": [],
   "source": [
    "modality = \"structural_oct\"\n",
    "device = \"heidelberg_spectralis\"\n",
    "participant_id = \"1001\"\n",
    "\n",
    "# Change modality, device, and participant_id to view other files\n",
    "path = f\"/Data/dataset/retinal_oct/{modality}/{device}/{participant_id}\""
   ]
  },
  {
   "cell_type": "code",
   "execution_count": null,
   "metadata": {},
   "outputs": [],
   "source": [
    "file_list = os.listdir(path)"
   ]
  },
  {
   "cell_type": "code",
   "execution_count": null,
   "metadata": {},
   "outputs": [],
   "source": [
    "# Read DICOM tags and values using pydicom - change \"4\" to other numbers to explore other images\n",
    "dcm = pydicom.dcmread(f\"{path}/{file_list[4]}\")"
   ]
  },
  {
   "cell_type": "code",
   "execution_count": null,
   "metadata": {},
   "outputs": [],
   "source": [
    "# Print tags and values of your interest\n",
    "print(dcm.Manufacturer)\n",
    "print(dcm.ManufacturerModelName)\n",
    "print(dcm.ImageLaterality)\n",
    "print(dcm.Rows)\n",
    "print(dcm.Columns)\n",
    "print(dcm.NumberOfFrames)"
   ]
  },
  {
   "cell_type": "code",
   "execution_count": null,
   "metadata": {},
   "outputs": [],
   "source": [
    "# View the image\n",
    "arr = dcm.pixel_array\n",
    "number_of_slices, rows_height, columns_width = arr.shape\n",
    "print(\n",
    "    f\"Number of slices: {number_of_slices}\\nRows (height): {rows_height}\\nColumns (width): {columns_width}\"\n",
    ")\n",
    "\n",
    "\n",
    "# Convert numpy array to PIL Image\n",
    "# Change the number 1 to any range in number_of_slices to see the slice you want to see\n",
    "img = Image.fromarray(arr[1])\n",
    "\n",
    "display(img)"
   ]
  },
  {
   "cell_type": "markdown",
   "metadata": {},
   "source": [
    "## Viewing Retinal OCTA images"
   ]
  },
  {
   "cell_type": "markdown",
   "metadata": {},
   "source": [
    "### Flow cube"
   ]
  },
  {
   "cell_type": "code",
   "execution_count": null,
   "metadata": {},
   "outputs": [],
   "source": [
    "modality = \"flow_cube\"\n",
    "device = \"topcon_maestro2\"\n",
    "participant_id = \"1002\"\n",
    "\n",
    "# Change modality, device, and participant_id to view other files\n",
    "path = f\"/Data/dataset/retinal_octa/{modality}/{device}/{participant_id}\""
   ]
  },
  {
   "cell_type": "code",
   "execution_count": null,
   "metadata": {},
   "outputs": [],
   "source": [
    "file_list = os.listdir(path)"
   ]
  },
  {
   "cell_type": "code",
   "execution_count": null,
   "metadata": {},
   "outputs": [],
   "source": [
    "# Read DICOM tags and values using pydicom - change \"0\" to other numbers to explore other images\n",
    "dcm = pydicom.dcmread(f\"{path}/{file_list[0]}\")"
   ]
  },
  {
   "cell_type": "code",
   "execution_count": null,
   "metadata": {},
   "outputs": [],
   "source": [
    "# print(dcm)# print all the tags and values in the dicom file\n",
    "\n",
    "print(dcm.Manufacturer)\n",
    "print(dcm.ManufacturerModelName)\n",
    "print(dcm.ImageLaterality)\n",
    "print(dcm.Rows)\n",
    "print(dcm.Columns)\n",
    "print(dcm.NumberOfFrames)"
   ]
  },
  {
   "cell_type": "code",
   "execution_count": null,
   "metadata": {},
   "outputs": [],
   "source": [
    "# View the image\n",
    "arr = dcm.pixel_array\n",
    "number_of_slices, rows_height, columns_width = arr.shape\n",
    "print(\n",
    "    f\"Number of slices: {number_of_slices}\\nRows (height): {rows_height}\\nColumns (width): {columns_width}\"\n",
    ")\n",
    "# Convert numpy array to Image\n",
    "# Change the number 1 to any range in number_of_slices to see the slice you want to see\n",
    "img = Image.fromarray(arr[1])\n",
    "display(img)"
   ]
  },
  {
   "cell_type": "markdown",
   "metadata": {},
   "source": [
    "### En Face"
   ]
  },
  {
   "cell_type": "code",
   "execution_count": null,
   "metadata": {},
   "outputs": [],
   "source": [
    "modality = \"enface\"\n",
    "device = \"topcon_maestro2\"\n",
    "participant_id = \"1002\"\n",
    "\n",
    "# Change modality, device, and participant_id\n",
    "path = f\"/Data/dataset/retinal_octa/{modality}/{device}/{participant_id}\""
   ]
  },
  {
   "cell_type": "code",
   "execution_count": null,
   "metadata": {},
   "outputs": [],
   "source": [
    "file_list = os.listdir(path)"
   ]
  },
  {
   "cell_type": "code",
   "execution_count": null,
   "metadata": {},
   "outputs": [],
   "source": [
    "# Read DICOM tags and values using pydicom - change \"3\" to other numbers to explore other images\n",
    "dcm = pydicom.dcmread(f\"{path}/{file_list[3]}\")"
   ]
  },
  {
   "cell_type": "code",
   "execution_count": null,
   "metadata": {},
   "outputs": [],
   "source": [
    "# print(dcm)# print all the tags and values in the dicom file\n",
    "\n",
    "print(dcm.Manufacturer)\n",
    "print(dcm.ManufacturerModelName)\n",
    "print(dcm.ImageLaterality)\n",
    "print(dcm.Rows)\n",
    "print(dcm.Columns)\n",
    "print(dcm.OphthalmicImageTypeDescription)\n",
    "print(\n",
    "    dcm[\"0022eee0\"][0][\"0022eee2\"][0][\"0062000f\"][0][\"00080104\"].value\n",
    ")  # example on how to print the nested value"
   ]
  },
  {
   "cell_type": "code",
   "execution_count": null,
   "metadata": {},
   "outputs": [],
   "source": [
    "# View the image\n",
    "arr = dcm.pixel_array\n",
    "\n",
    "# Convert numpy array to PIL Image\n",
    "img = Image.fromarray(arr)\n",
    "display(img)"
   ]
  },
  {
   "cell_type": "markdown",
   "metadata": {},
   "source": [
    "### Segmentation"
   ]
  },
  {
   "cell_type": "code",
   "execution_count": null,
   "metadata": {},
   "outputs": [],
   "source": [
    "modality = \"segmentation\"\n",
    "device = \"topcon_triton\"\n",
    "participant_id = \"1042\"\n",
    "\n",
    "# Change modality, device, and participant_id\n",
    "path = f\"/Data/dataset/retinal_octa/{modality}/{device}/{participant_id}\""
   ]
  },
  {
   "cell_type": "code",
   "execution_count": null,
   "metadata": {},
   "outputs": [],
   "source": [
    "file_list = os.listdir(path)"
   ]
  },
  {
   "cell_type": "code",
   "execution_count": null,
   "metadata": {},
   "outputs": [],
   "source": [
    "# Read DICOM tagas and values using pydicom- change 1 to other numbers to explore other images\n",
    "seg_file = f\"{path}/{file_list[1]}\"\n",
    "dcm = pydicom.dcmread(seg_file)\n",
    "\n",
    "# Warning \"invalid SOP Class UID\" may show up, this is expected as the segmentation files are based on heightmap segmentation (working supplement)"
   ]
  },
  {
   "cell_type": "code",
   "execution_count": null,
   "metadata": {},
   "outputs": [],
   "source": [
    "print(dcm.Manufacturer)\n",
    "print(dcm.ManufacturerModelName)\n",
    "print(dcm.ImageLaterality)\n",
    "print(dcm.Rows)\n",
    "print(dcm.Columns)\n",
    "print(dcm.NumberOfFrames)"
   ]
  },
  {
   "cell_type": "code",
   "execution_count": null,
   "metadata": {},
   "outputs": [],
   "source": [
    "# Read DICOM files for both segmentation file and corresponding structural OCT data\n",
    "seg_file = seg_file\n",
    "seg_dcm = pydicom.dcmread(seg_file)\n",
    "seg_pixel_data = seg_dcm.pixel_array\n",
    "\n",
    "# The associated structural oct file path information is in manifest.csv in /retinal_octa\n",
    "oct_folder = \"/Data/dataset/retinal_oct/structural_oct/topcon_triton/1042\"\n",
    "file_list = os.listdir(oct_folder)\n",
    "oct_file = f\"{oct_folder}/{file_list[7]}\"\n",
    "oct_dcm = pydicom.dcmread(oct_file)\n",
    "oct_pixel_data = oct_dcm.pixel_array\n",
    "\n",
    "# Select the 111th slice of the OCT data\n",
    "i = 110\n",
    "\n",
    "bscan = np.stack((oct_pixel_data[i], oct_pixel_data[i], oct_pixel_data[i]), axis=2)\n",
    "for j in range(seg_pixel_data.shape[0]):\n",
    "    for zi, z in enumerate(seg_pixel_data[j, i, :]):\n",
    "        if z < 0:\n",
    "            continue\n",
    "        z = round(z)\n",
    "        if 0 <= z < bscan.shape[0] and 0 <= zi < bscan.shape[1]:\n",
    "            bscan[int(z), int(zi), 0] = (j + 1) * 10\n",
    "            bscan[int(z), int(zi), 1] = 200\n",
    "            bscan[int(z), int(zi), 2] = 200\n",
    "\n",
    "# Convert the array to an image\n",
    "img = Image.fromarray(bscan)\n",
    "display(img)"
   ]
  },
  {
   "cell_type": "code",
   "execution_count": null,
   "metadata": {},
   "outputs": [],
   "source": []
  },
  {
   "cell_type": "code",
   "execution_count": null,
   "metadata": {},
   "outputs": [],
   "source": []
  },
  {
   "cell_type": "code",
   "execution_count": null,
   "metadata": {},
   "outputs": [],
   "source": []
  }
 ],
 "metadata": {
  "kernelspec": {
   "display_name": "ai-readi-dataset-notebooks",
   "language": "python",
   "name": "ai-readi-dataset-notebooks"
  },
  "language_info": {
   "codemirror_mode": {
    "name": "ipython",
    "version": 3
   },
   "file_extension": ".py",
   "mimetype": "text/x-python",
   "name": "python",
   "nbconvert_exporter": "python",
   "pygments_lexer": "ipython3",
   "version": "3.12.0"
  }
 },
 "nbformat": 4,
 "nbformat_minor": 4
}
